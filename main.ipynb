{
 "cells": [
  {
   "cell_type": "code",
   "execution_count": null,
   "id": "initial_id",
   "metadata": {},
   "outputs": [],
   "source": [
    "import pandas as pd\n",
    "import matplotlib.pyplot as plt\n",
    "\n"
   ]
  },
  {
   "cell_type": "markdown",
   "id": "2be66a8b3298f507",
   "metadata": {
    "collapsed": false
   },
   "source": [
    "# Movie Dataset Analysis and Recommendation System\n",
    "\n",
    "### Introduction\n",
    "This project involves analyzing a movie dataset to uncover interesting patterns and insights related to genres, actors, movies, and themes. The dataset comprises approximately 1 million movies and is structured across four CSV files, detailing different aspects of each movie.\n",
    "I'm an extreme movie enthusiast and I'm always looking for new movies to watch. This is way I have the passion to work on this challange. I hope to find some interesting insights that will help me discover new movies to watch :)\n",
    "\n",
    "### Objectives\n",
    "- Analyze and explore the data to discover patterns and trends within the movie industry.\n",
    "- Develop a recommendation system based on the insights gathered from the analysis.\n",
    "\n",
    "### Dataset\n",
    "The dataset is sourced from [Kaggle](https://www.kaggle.com/datasets/gsimonx37/letterboxd/data) and includes:\n",
    "1. **Genres** - Categorization of movies by genre.\n",
    "2. **Actors** - Information about the cast in each movie.\n",
    "3. **Movies** - Details about individual movies.\n",
    "4. **Themes** - Various themes associated with each movie.\n",
    "\n",
    "### Let's start by loading the data and performing an initial exploration.\n"
   ]
  },
  {
   "cell_type": "code",
   "execution_count": null,
   "id": "f2aede751eb435df",
   "metadata": {
    "collapsed": false
   },
   "outputs": [],
   "source": [
    "df = pd.read_csv('movie_dataset/genres.csv')\n",
    "df2 = pd.read_csv('movie_dataset/actors.csv')\n",
    "df3 = pd.read_csv('movie_dataset/movies.csv')\n",
    "df4 = pd.read_csv('movie_dataset/themes.csv')"
   ]
  },
  {
   "cell_type": "markdown",
   "id": "481335e689080ece",
   "metadata": {
    "collapsed": false
   },
   "source": [
    "### Genres Dataset"
   ]
  },
  {
   "cell_type": "code",
   "execution_count": null,
   "id": "1253a3f1198ef3c9",
   "metadata": {
    "collapsed": false
   },
   "outputs": [],
   "source": [
    "genre_counts = df[\"genre\"].value_counts()\n",
    "\n",
    "# Plot the distribution of genres\n",
    "genre_counts.plot(kind='bar')\n",
    "plt.xlabel(\"Genre\")\n",
    "plt.ylabel(\"Count\")\n",
    "plt.title(\"Genre Distribution\")\n",
    "plt.show()"
   ]
  },
  {
   "cell_type": "code",
   "execution_count": null,
   "id": "e10874276d3a5e72",
   "metadata": {
    "collapsed": false
   },
   "outputs": [],
   "source": [
    "# Actors Dataset\n",
    "actor_counts = df2[\"name\"].value_counts()\n",
    "actor_counts[:20].plot(kind='bar')\n",
    "plt.xlabel(\"Actor\")\n",
    "plt.ylabel(\"Count\")\n",
    "plt.title(\"Top 20 Actors in Movies\")\n",
    "plt.show()"
   ]
  },
  {
   "cell_type": "code",
   "execution_count": null,
   "id": "f1c7b746091d15df",
   "metadata": {
    "collapsed": false
   },
   "outputs": [],
   "source": [
    "# Movies Dataset\n",
    "df3.head()"
   ]
  },
  {
   "cell_type": "code",
   "execution_count": null,
   "id": "d3a184e7fbaa9ddf",
   "metadata": {
    "collapsed": false
   },
   "outputs": [],
   "source": [
    "df3['date'].value_counts().sort_index().plot()\n",
    "plt.xlabel(\"Year\")\n",
    "plt.ylabel(\"Number of Movies\")\n",
    "plt.title(\"Number of Movies Released Each Year\")\n",
    "plt.show()"
   ]
  },
  {
   "cell_type": "markdown",
   "source": [],
   "metadata": {
    "collapsed": false
   },
   "id": "2a9a68da80795f33"
  },
  {
   "cell_type": "code",
   "outputs": [],
   "source": [
    "df3['rating'].plot(kind='hist', bins=20)"
   ],
   "metadata": {
    "collapsed": false
   },
   "id": "b1e331ff67e897b5",
   "execution_count": null
  },
  {
   "cell_type": "code",
   "execution_count": null,
   "id": "853d4fb78e395942",
   "metadata": {
    "collapsed": false
   },
   "outputs": [],
   "source": [
    "# Themes Dataset\n",
    "theme_counts = df4[\"theme\"].value_counts()\n",
    "theme_counts[:20].plot(kind='bar')\n",
    "plt.xlabel(\"Theme\")\n",
    "plt.ylabel(\"Count\")\n",
    "plt.title(\"Top 20 Themes in Movies\")\n",
    "plt.show()"
   ]
  },
  {
   "cell_type": "markdown",
   "id": "87af89d4dd3763d3",
   "metadata": {
    "collapsed": false
   },
   "source": [
    "### Recommendations\n",
    "Based on the analysis, we can develop a recommendation system that suggests movies based on the following criteria:\n",
    "1. **Genre** - Recommend movies based on the user's preferred genre.\n",
    "2. **Actors** - Suggest movies that feature the user's favorite actors.\n",
    "3. **Themes** - Recommend movies with themes that the user finds interesting."
   ]
  },
  {
   "cell_type": "code",
   "execution_count": null,
   "id": "4e765985629328ba",
   "metadata": {
    "collapsed": false
   },
   "outputs": [],
   "source": []
  },
  {
   "cell_type": "code",
   "execution_count": null,
   "id": "77efdf1f939d821a",
   "metadata": {
    "collapsed": false
   },
   "outputs": [],
   "source": []
  }
 ],
 "metadata": {
  "kernelspec": {
   "display_name": "Python 3 (ipykernel)",
   "language": "python",
   "name": "python3"
  },
  "language_info": {
   "codemirror_mode": {
    "name": "ipython",
    "version": 3
   },
   "file_extension": ".py",
   "mimetype": "text/x-python",
   "name": "python",
   "nbconvert_exporter": "python",
   "pygments_lexer": "ipython3",
   "version": "3.12.7"
  }
 },
 "nbformat": 4,
 "nbformat_minor": 5
}
