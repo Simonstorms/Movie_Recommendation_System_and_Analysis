{
 "cells": [
  {
   "cell_type": "markdown",
   "id": "initial_markdown",
   "metadata": {},
   "source": [
    "# Movie Dataset Analysis and Recommendation System\n",
    "\n",
    "## Introduction\n",
    "This project involves analyzing a movie dataset to uncover interesting patterns and insights related to genres, actors, movies, and themes. The dataset comprises approximately 1 million movies and is structured across four CSV files, detailing different aspects of each movie.\n",
    "\n",
    "As an extreme movie enthusiast, I'm always looking for new movies to watch. This project aims to find interesting insights that will help discover new movies and develop a basic recommendation system.\n",
    "\n",
    "## Objectives\n",
    "- Analyze and explore the data to discover patterns and trends within the movie industry.\n",
    "- Develop a basic recommendation system based on the insights gathered from the analysis.\n",
    "\n",
    "## Dataset\n",
    "The dataset is sourced from [Kaggle](https://www.kaggle.com/datasets/gsimonx37/letterboxd/data) and includes:\n",
    "1. **Genres** - Categorization of movies by genre.\n",
    "2. **Actors** - Information about the cast in each movie.\n",
    "3. **Movies** - Details about individual movies.\n",
    "4. **Themes** - Various themes associated with each movie.\n",
    "\n",
    "Let's start by importing the necessary libraries and loading the data."
   ]
  },
  {
   "cell_type": "code",
   "execution_count": null,
   "id": "import_libraries",
   "metadata": {},
   "outputs": [],
   "source": [
    "import pandas as pd\n",
    "import matplotlib.pyplot as plt\n",
    "import seaborn as sns\n",
    "import numpy as np\n",
    "from sklearn.feature_extraction.text import CountVectorizer\n",
    "from sklearn.metrics.pairwise import cosine_similarity\n",
    "\n",
    "# Set plot style\n",
    "plt.style.use('seaborn')\n",
    "sns.set_palette(\"deep\")\n",
    "\n",
    "# Load datasets\n",
    "genres_df = pd.read_csv('movie_dataset/genres.csv')\n",
    "actors_df = pd.read_csv('movie_dataset/actors.csv')\n",
    "movies_df = pd.read_csv('movie_dataset/movies.csv')\n",
    "themes_df = pd.read_csv('movie_dataset/themes.csv')\n",
    "\n",
    "print(f\"Genres dataset shape: {genres_df.shape}\")\n",
    "print(f\"Actors dataset shape: {actors_df.shape}\")\n",
    "print(f\"Movies dataset shape: {movies_df.shape}\")\n",
    "print(f\"Themes dataset shape: {themes_df.shape}\")"
   ]
  },
  {
   "cell_type": "markdown",
   "id": "genres_analysis",
   "metadata": {},
   "source": [
    "## Genres Analysis"
   ]
  },
  {
   "cell_type": "code",
   "execution_count": null,
   "id": "genres_plot",
   "metadata": {},
   "outputs": [],
   "source": [
    "genre_counts = genres_df[\"genre\"].value_counts()\n",
    "\n",
    "plt.figure(figsize=(12, 6))\n",
    "sns.barplot(x=genre_counts.index[:15], y=genre_counts.values[:15])\n",
    "plt.xlabel(\"Genre\")\n",
    "plt.ylabel(\"Count\")\n",
    "plt.title(\"Top 15 Movie Genres\")\n",
    "plt.xticks(rotation=45, ha='right')\n",
    "plt.tight_layout()\n",
    "plt.show()\n",
    "\n",
    "print(f\"Total number of unique genres: {len(genre_counts)}\")\n",
    "print(f\"Top 5 genres: {', '.join(genre_counts.index[:5])}\")"
   ]
  },
  {
   "cell_type": "markdown",
   "id": "actors_analysis",
   "metadata": {},
   "source": [
    "## Actors Analysis"
   ]
  },
  {
   "cell_type": "code",
   "execution_count": null,
   "id": "actors_plot",
   "metadata": {},
   "outputs": [],
   "source": [
    "actor_counts = actors_df[\"name\"].value_counts()\n",
    "\n",
    "plt.figure(figsize=(12, 6))\n",
    "sns.barplot(x=actor_counts.index[:20], y=actor_counts.values[:20])\n",
    "plt.xlabel(\"Actor\")\n",
    "plt.ylabel(\"Number of Movies\")\n",
    "plt.title(\"Top 20 Actors by Number of Movies\")\n",
    "plt.xticks(rotation=90)\n",
    "plt.tight_layout()\n",
    "plt.show()\n",
    "\n",
    "print(f\"Total number of unique actors: {len(actor_counts)}\")\n",
    "print(f\"Top 5 actors: {', '.join(actor_counts.index[:5])}\")"
   ]
  },
  {
   "cell_type": "markdown",
   "id": "movies_analysis",
   "metadata": {},
   "source": [
    "## Movies Analysis"
   ]
  },
  {
   "cell_type": "code",
   "execution_count": null,
   "id": "movies_plot",
   "metadata": {},
   "outputs": [],
   "source": [
    "# Convert date to datetime\n",
    "movies_df['date'] = pd.to_datetime(movies_df['date'])\n",
    "\n",
    "# Plot number of movies per year\n",
    "plt.figure(figsize=(12, 6))\n",
    "movies_df['date'].dt.year.value_counts().sort_index().plot()\n",
    "plt.xlabel(\"Year\")\n",
    "plt.ylabel(\"Number of Movies\")\n",
    "plt.title(\"Number of Movies Released Each Year\")\n",
    "plt.tight_layout()\n",
    "plt.show()\n",
    "\n",
    "# Plot rating distribution\n",
    "plt.figure(figsize=(10, 5))\n",
    "sns.histplot(movies_df['rating'], bins=20, kde=True)\n",
    "plt.xlabel(\"Rating\")\n",
    "plt.ylabel(\"Count\")\n",
    "plt.title(\"Distribution of Movie Ratings\")\n",
    "plt.tight_layout()\n",
    "plt.show()\n",
    "\n",
    "print(f\"Total number of movies: {len(movies_df)}\")\n",
    "print(f\"Average movie rating: {movies_df['rating'].mean():.2f}\")\n",
    "print(f\"Median movie rating: {movies_df['rating'].median():.2f}\")"
   ]
  },
  {
   "cell_type": "markdown",
   "id": "themes_analysis",
   "metadata": {},
   "source": [
    "## Themes Analysis"
   ]
  },
  {
   "cell_type": "code",
   "execution_count": null,
   "id": "themes_plot",
   "metadata": {},
   "outputs": [],
   "source": [
    "theme_counts = themes_df[\"theme\"].value_counts()\n",
    "\n",
    "plt.figure(figsize=(12, 6))\n",
    "sns.barplot(x=theme_counts.index[:20], y=theme_counts.values[:20])\n",
    "plt.xlabel(\"Theme\")\n",
    "plt.ylabel(\"Count\")\n",
    "plt.title(\"Top 20 Movie Themes\")\n",
    "plt.xticks(rotation=90)\n",
    "plt.tight_layout()\n",
    "plt.show()\n",
    "\n",
    "print(f\"Total number of unique themes: {len(theme_counts)}\")\n",
    "print(f\"Top 5 themes: {', '.join(theme_counts.index[:5])}\")"
   ]
  },
  {
   "cell_type": "markdown",
   "id": "correlation_analysis",
   "metadata": {},
   "source": [
    "## Correlation Analysis"
   ]
  },
  {
   "cell_type": "code",
   "execution_count": null,
   "id": "correlation_plot",
   "metadata": {},
   "outputs": [],
   "source": [
    "# Merge datasets\n",
    "merged_df = movies_df.merge(genres_df, on='id')\n",
    "merged_df = merged_df.merge(actors_df, on='id')\n",
    "merged_df = merged_df.merge(themes_df, on='id')\n",
    "\n",
    "# Calculate average rating for each genre\n",
    "genre_ratings = merged_df.groupby('genre')['rating'].mean().sort_values(ascending=False)\n",
    "\n",
    "plt.figure(figsize=(12, 6))\n",
    "sns.barplot(x=genre_ratings.index[:15], y=genre_ratings.values[:15])\n",
    "plt.xlabel(\"Genre\")\n",
    "plt.ylabel(\"Average Rating\")\n",
    "plt.title(\"Average Rating by Genre (Top 15)\")\n",
    "plt.xticks(rotation=45, ha='right')\n",
    "plt.tight_layout()\n",
    "plt.show()\n",
    "\n",
    "print(f\"Genre with highest average rating: {genre_ratings.index[0]} ({genre_ratings.values[0]:.2f})\")\n",
    "print(f\"Genre with lowest average rating: {genre_ratings.index[-1]} ({genre_ratings.values[-1]:.2f})\")"
   ]
  },
  {
   "cell_type": "markdown",
   "id": "recommendation_system",
   "metadata": {},
   "source": [
    "## Basic Recommendation System\n",
    "\n",
    "Let's create a simple content-based recommendation system using movie genres, actors, and themes."
   ]
  },
  {
   "cell_type": "code",
   "execution_count": null,
   "id": "recommendation_function",
   "metadata": {},
   "outputs": [],
   "source": [
    "def get_recommendations(title, cosine_sim, indices, df):\n",
    "    idx = indices[title]\n",
    "    sim_scores = list(enumerate(cosine_sim[idx]))\n",
    "    sim_scores = sorted(sim_scores, key=lambda x: x[1], reverse=True)\n",
    "    sim_scores = sim_scores[1:11]  # Top 10 similar movies\n",
    "    movie_indices = [i[0] for i in sim_scores]\n",
    "    return df['title'].iloc[movie_indices]\n",
    "\n",
    "# Combine relevant features\n",
    "merged_df['combined_features'] = merged_df['genre'] + ' ' + merged_df['name'] + ' ' + merged_df['theme']\n",
    "\n",
    "# Create CountVectorizer\n",
    "cv = CountVectorizer(stop_words='english')\n",
    "count_matrix = cv.fit_transform(merged_df['combined_features'])\n",
    "\n",
    "# Compute cosine similarity\n",
    "cosine_sim = cosine_similarity(count_matrix)\n",
    "\n",
    "# Create a reverse map of indices and movie titles\n",
    "indices = pd.Series(merged_df.index, index=merged_df['title']).drop_duplicates()\n",
    "\n",
    "# Get recommendations for a sample movie\n",
    "sample_movie = merged_df['title'].iloc[0]\n",
    "recommendations = get_recommendations(sample_movie, cosine_sim, indices, merged_df)\n",
    "\n",
    "print(f\"Recommendations for '{sample_movie}':\")\n",
    "print(recommendations)"
   ]
  },
  {
   "cell_type": "markdown",
   "id": "conclusion",
   "metadata": {},
   "source": [
    "## Conclusion\n",
    "\n",
    "This analysis provides insights into the movie dataset, including popular genres, actors, themes, and trends in movie releases and ratings. The basic recommendation system demonstrates how we can use content-based filtering to suggest similar movies based on genres, actors, and themes.\n",
    "\n",
    "Future improvements could include:\n",
    "1. Incorporating user ratings for a collaborative filtering approach\n",
    "2. Analyzing the relationship between movie budget and ratings\n",
    "3. Exploring seasonal trends in movie releases\n",
    "4. Implementing a more sophisticated recommendation algorithm, such as matrix factorization"
   ]
  }
 ],
 "metadata": {
  "kernelspec": {
   "display_name": "Python 3 (ipykernel)",
   "language": "python",
   "name": "python3"
  },
  "language_info": {
   "codemirror_mode": {
    "name": "ipython",
    "version": 3
   },
   "file_extension": ".py",
   "mimetype": "text/x-python",
   "name": "python",
   "nbconvert_exporter": "python",
   "pygments_lexer": "ipython3",
   "version": "3.12.7"
  }
 },
 "nbformat": 4,
 "nbformat_minor": 5
}
